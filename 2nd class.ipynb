{
 "cells": [
  {
   "cell_type": "code",
   "execution_count": 1,
   "metadata": {},
   "outputs": [
    {
     "name": "stdout",
     "output_type": "stream",
     "text": [
      "this is a value of a\n"
     ]
    }
   ],
   "source": [
    "a=10\n",
    "if a :\n",
    "    print(\"this is a value of a\")"
   ]
  },
  {
   "cell_type": "code",
   "execution_count": 4,
   "metadata": {},
   "outputs": [
    {
     "name": "stdout",
     "output_type": "stream",
     "text": [
      "test\n"
     ]
    }
   ],
   "source": [
    "a=10\n",
    "if a<20:\n",
    "    print(\"test\")#identation matter in python \n",
    "    "
   ]
  },
  {
   "cell_type": "code",
   "execution_count": 3,
   "metadata": {},
   "outputs": [
    {
     "data": {
      "text/plain": [
       "True"
      ]
     },
     "execution_count": 3,
     "metadata": {},
     "output_type": "execute_result"
    }
   ],
   "source": [
    "a<20"
   ]
  },
  {
   "cell_type": "code",
   "execution_count": 5,
   "metadata": {},
   "outputs": [],
   "source": [
    "a=10\n",
    "if a<20:\n",
    "    pass           # it can do nothing "
   ]
  },
  {
   "cell_type": "code",
   "execution_count": 6,
   "metadata": {},
   "outputs": [
    {
     "name": "stdout",
     "output_type": "stream",
     "text": [
      "Enter a number:12\n",
      "true\n"
     ]
    }
   ],
   "source": [
    "a=int(input(\"Enter a number:\"))\n",
    "if a<20:\n",
    "    print(\"true\")\n",
    "else:\n",
    "    print(\"false\")"
   ]
  },
  {
   "cell_type": "code",
   "execution_count": 14,
   "metadata": {},
   "outputs": [
    {
     "name": "stdout",
     "output_type": "stream",
     "text": [
      "I am checking a type of var\n"
     ]
    }
   ],
   "source": [
    "a=10\n",
    "    # if this is flase then it will not consider if block,it will come to else block  \n",
    "if a==30:\n",
    "    print(\"this is my alternate statement\")\n",
    "elif type(a)==int:\n",
    "    print(\"I am checking a type of var\")\n",
    "elif a<20:\n",
    "    print(\"print from elif\")\n",
    "else:\n",
    "    print(\"print this statement\")"
   ]
  },
  {
   "cell_type": "code",
   "execution_count": 15,
   "metadata": {},
   "outputs": [
    {
     "data": {
      "text/plain": [
       "True"
      ]
     },
     "execution_count": 15,
     "metadata": {},
     "output_type": "execute_result"
    }
   ],
   "source": [
    "type(a)==int"
   ]
  },
  {
   "cell_type": "code",
   "execution_count": 2,
   "metadata": {},
   "outputs": [
    {
     "name": "stdout",
     "output_type": "stream",
     "text": [
      "50\n",
      "you can buy all the item listed in row one\n"
     ]
    }
   ],
   "source": [
    "Discount=int(input())\n",
    "if Discount ==50:\n",
    "    print(\"you can buy all the item listed in row one\")\n",
    "elif Discount ==30:\n",
    "    print(\"you can buy all the item from row no 2\")\n",
    "elif Discount ==20:\n",
    "    print(\"send user to row no 3\")\n",
    "elif Discount >10:\n",
    "    print(\"send him to 4th row no 4\")\n",
    "else:\n",
    "    print(\"there is no item available\")"
   ]
  },
  {
   "cell_type": "code",
   "execution_count": 5,
   "metadata": {},
   "outputs": [
    {
     "name": "stdout",
     "output_type": "stream",
     "text": [
      "2222\n",
      "you can get a platinum card\n",
      "you will be able to get another facilities\n",
      "you will be able to get a discount in services\n"
     ]
    }
   ],
   "source": [
    "income = int(input())\n",
    "if income >1000:\n",
    "    print(\"you can get a platinum card\")\n",
    "    if income >2000:\n",
    "        print(\"you will be able to get another facilities\")\n",
    "        if income >2200:\n",
    "            print(\"you will be able to get a discount in services\")\n",
    "        elif income >2300:\n",
    "            print(\"you will be able to get air ticket\")\n",
    "        else:\n",
    "            print(\"there is no option available\")\n",
    "    elif income <1500:\n",
    "        print(\"you won't be able to another things\")\n",
    "    else:\n",
    "        print(\"no option\")\n",
    "elif income > 800:\n",
    "    print(\"you will be able to get gold card\")\n",
    "else:\n",
    "    print(\"you won't be able to get any card\")"
   ]
  },
  {
   "cell_type": "code",
   "execution_count": 6,
   "metadata": {},
   "outputs": [
    {
     "name": "stdout",
     "output_type": "stream",
     "text": [
      "10\n",
      "this is 10\n"
     ]
    }
   ],
   "source": [
    "val=int(input())\n",
    "if val ==10:print(\"this is 10\")#you can also write it in one line but you have to write it in another line because it will look readable"
   ]
  },
  {
   "cell_type": "markdown",
   "metadata": {},
   "source": [
    "# Now For Loop"
   ]
  },
  {
   "cell_type": "code",
   "execution_count": 7,
   "metadata": {},
   "outputs": [
    {
     "data": {
      "text/plain": [
       "[2, 3, 4, 5, 6, 1, 2, 3, 3]"
      ]
     },
     "execution_count": 7,
     "metadata": {},
     "output_type": "execute_result"
    }
   ],
   "source": [
    "l=[2,3,4,5,6,1,2,3,3]\n",
    "l"
   ]
  },
  {
   "cell_type": "code",
   "execution_count": 10,
   "metadata": {},
   "outputs": [
    {
     "name": "stdout",
     "output_type": "stream",
     "text": [
      "2\n",
      "3\n",
      "4\n",
      "5\n",
      "6\n",
      "1\n",
      "2\n",
      "3\n",
      "3\n"
     ]
    }
   ],
   "source": [
    "for i in l:\n",
    "    print(i)"
   ]
  },
  {
   "cell_type": "code",
   "execution_count": 15,
   "metadata": {},
   "outputs": [
    {
     "name": "stdout",
     "output_type": "stream",
     "text": [
      "ziad\n",
      "[1, 2, 3, 4, 5]\n",
      "(2, 3, 4, 5, 6)\n",
      "56\n",
      "67\n",
      "(6+7j)\n",
      "True\n",
      "45.67\n",
      "ullah\n"
     ]
    }
   ],
   "source": [
    "l=[\"ziad\",[1,2,3,4,5],(2,3,4,5,6),56,67,6+7j,True,45.67,\"ullah\"]\n",
    "for i in l:\n",
    "    print(i)"
   ]
  },
  {
   "cell_type": "code",
   "execution_count": 16,
   "metadata": {},
   "outputs": [
    {
     "name": "stdout",
     "output_type": "stream",
     "text": [
      "ziad\n",
      "ullah\n"
     ]
    }
   ],
   "source": [
    "for i in l:\n",
    "    if type(i)==str:\n",
    "        print(i)"
   ]
  },
  {
   "cell_type": "code",
   "execution_count": 17,
   "metadata": {},
   "outputs": [
    {
     "data": {
      "text/plain": [
       "['ziad',\n",
       " [1, 2, 3, 4, 5],\n",
       " (2, 3, 4, 5, 6),\n",
       " 56,\n",
       " 67,\n",
       " (6+7j),\n",
       " True,\n",
       " 45.67,\n",
       " 'ullah']"
      ]
     },
     "execution_count": 17,
     "metadata": {},
     "output_type": "execute_result"
    }
   ],
   "source": [
    "l"
   ]
  },
  {
   "cell_type": "code",
   "execution_count": 19,
   "metadata": {},
   "outputs": [
    {
     "name": "stdout",
     "output_type": "stream",
     "text": [
      "[5, 4, 3, 2, 1]\n"
     ]
    }
   ],
   "source": [
    "for n in l:\n",
    "    if type(n)==list:\n",
    "        print(n[::-1])"
   ]
  },
  {
   "cell_type": "code",
   "execution_count": 22,
   "metadata": {},
   "outputs": [
    {
     "name": "stdout",
     "output_type": "stream",
     "text": [
      "z1\n",
      "i1\n",
      "a1\n",
      "d1\n",
      " 1\n",
      "U1\n",
      "l1\n",
      "l1\n",
      "a1\n",
      "h1\n"
     ]
    }
   ],
   "source": [
    "s=\"ziad Ullah\"\n",
    "for i in s:\n",
    "    print(i+\"1\")"
   ]
  },
  {
   "cell_type": "code",
   "execution_count": 23,
   "metadata": {},
   "outputs": [
    {
     "name": "stdout",
     "output_type": "stream",
     "text": [
      "3\n",
      "4\n",
      "5\n",
      "6\n",
      "7\n"
     ]
    }
   ],
   "source": [
    "t=(3,4,5,6,7)\n",
    "for i in t:\n",
    "    print(i)"
   ]
  },
  {
   "cell_type": "code",
   "execution_count": 25,
   "metadata": {},
   "outputs": [
    {
     "data": {
      "text/plain": [
       "[0, 1, 2, 3, 4, 5, 6, 7, 8, 9]"
      ]
     },
     "execution_count": 25,
     "metadata": {},
     "output_type": "execute_result"
    }
   ],
   "source": [
    "list(range(10))"
   ]
  },
  {
   "cell_type": "code",
   "execution_count": 27,
   "metadata": {},
   "outputs": [
    {
     "name": "stdout",
     "output_type": "stream",
     "text": [
      "0\n",
      "1\n",
      "2\n",
      "3\n",
      "4\n",
      "5\n",
      "6\n",
      "7\n",
      "8\n",
      "9\n"
     ]
    }
   ],
   "source": [
    "for i in range(10):\n",
    "    print(i)"
   ]
  },
  {
   "cell_type": "code",
   "execution_count": 29,
   "metadata": {},
   "outputs": [
    {
     "name": "stdout",
     "output_type": "stream",
     "text": [
      "1\n",
      "0\n"
     ]
    }
   ],
   "source": [
    "a=10\n",
    "for i in str(a) :\n",
    "    print(i)"
   ]
  },
  {
   "cell_type": "code",
   "execution_count": 34,
   "metadata": {},
   "outputs": [
    {
     "name": "stdout",
     "output_type": "stream",
     "text": [
      "[1, 2, 3, 4]\n",
      "ziad\n",
      "(1, 2, 3, 4)\n",
      "smith\n"
     ]
    }
   ],
   "source": [
    "li=[[1,2,3,4,],\"ziad\",(1,2,3,4),445,44.8,3+5j,True,\"smith\"]\n",
    "for i  in li:\n",
    "    if type(i)==list or type(i)==tuple or type(i)==str:\n",
    "        print(i)"
   ]
  },
  {
   "cell_type": "code",
   "execution_count": 35,
   "metadata": {},
   "outputs": [
    {
     "name": "stdout",
     "output_type": "stream",
     "text": [
      "this is not possible\n",
      "this is not possible\n",
      "this is not possible\n",
      "this is not possible\n",
      "this is not possible\n",
      "this is not possible\n",
      "this is not possible\n",
      "this is not possible\n"
     ]
    }
   ],
   "source": [
    "li=[[1,2,3,4,],\"ziad\",(1,2,3,4),445,44.8,3+5j,True,\"smith\"]\n",
    "for i  in li:\n",
    "    if type(i)==list and type(i)==tuple and type(i)==str:\n",
    "        print(i)\n",
    "    else:\n",
    "        print(\"this is not possible\")"
   ]
  },
  {
   "cell_type": "markdown",
   "metadata": {},
   "source": [
    "# Nested for loop"
   ]
  },
  {
   "cell_type": "code",
   "execution_count": 37,
   "metadata": {},
   "outputs": [
    {
     "name": "stdout",
     "output_type": "stream",
     "text": [
      "[1, 2, 3, 4]\n",
      "1\n",
      "2\n",
      "3\n",
      "4\n",
      "ziad\n",
      "(1, 2, 3, 4)\n",
      "445\n",
      "44.8\n",
      "(3+5j)\n",
      "True\n",
      "smith\n"
     ]
    }
   ],
   "source": [
    "li=[[1,2,3,4,],\"ziad\",(1,2,3,4),445,44.8,3+5j,True,\"smith\"]\n",
    "for i in li:\n",
    "    print(i)\n",
    "    if type(i)==list:\n",
    "        for j in i:\n",
    "            print(j)"
   ]
  },
  {
   "cell_type": "code",
   "execution_count": 40,
   "metadata": {},
   "outputs": [
    {
     "name": "stdout",
     "output_type": "stream",
     "text": [
      "[1, 2, 3, 4]\n",
      "1\n",
      "2\n",
      "3\n",
      "4\n",
      "(1, 2, 3, 4)\n",
      "1\n",
      "2\n",
      "3\n",
      "4\n"
     ]
    }
   ],
   "source": [
    "li=[[1,2,3,4,],\"ziad\",(1,2,3,4),445,44.8,3+5j,True,\"smith\"]\n",
    "for i in li:\n",
    "   # print(i)\n",
    "    if type(i)==list or type(i)==tuple:\n",
    "        print(i)\n",
    "        for j in i:\n",
    "            print(j)"
   ]
  },
  {
   "cell_type": "code",
   "execution_count": 49,
   "metadata": {},
   "outputs": [
    {
     "name": "stdout",
     "output_type": "stream",
     "text": [
      "10\n",
      "*__\n",
      "*__*__\n",
      "*__*__*__\n",
      "*__*__*__*__\n",
      "*__*__*__*__*__\n",
      "*__*__*__*__*__*__\n",
      "*__*__*__*__*__*__*__\n",
      "*__*__*__*__*__*__*__*__\n",
      "*__*__*__*__*__*__*__*__*__\n",
      "*__*__*__*__*__*__*__*__*__*__\n"
     ]
    }
   ],
   "source": [
    "n=int(input())\n",
    "for i in range(n):\n",
    "    for j in range(i+1):\n",
    "        print(\"*\",end=\"__\")\n",
    "    print(\"\\r\")"
   ]
  },
  {
   "cell_type": "code",
   "execution_count": 52,
   "metadata": {},
   "outputs": [
    {
     "name": "stdout",
     "output_type": "stream",
     "text": [
      "2\n",
      "3\n",
      "1\n"
     ]
    }
   ],
   "source": [
    "l=[[1,1,2,2,3,3],[2,4,2,2,5],[1,5,8,8,2]]\n",
    "for i in l:\n",
    "    print(i.count(2))"
   ]
  },
  {
   "cell_type": "code",
   "execution_count": null,
   "metadata": {},
   "outputs": [],
   "source": []
  }
 ],
 "metadata": {
  "kernelspec": {
   "display_name": "Python 3",
   "language": "python",
   "name": "python3"
  },
  "language_info": {
   "codemirror_mode": {
    "name": "ipython",
    "version": 3
   },
   "file_extension": ".py",
   "mimetype": "text/x-python",
   "name": "python",
   "nbconvert_exporter": "python",
   "pygments_lexer": "ipython3",
   "version": "3.7.6"
  }
 },
 "nbformat": 4,
 "nbformat_minor": 4
}
